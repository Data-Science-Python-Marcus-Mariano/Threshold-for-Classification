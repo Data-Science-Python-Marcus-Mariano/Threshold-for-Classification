{
 "cells": [
  {
   "cell_type": "markdown",
   "metadata": {},
   "source": [
    " <span style=\"font-family: Arial; color:green; font-size:1.6em; font-weight:bold\" >__A Gentle Introduction to Threshold-Moving for Imbalanced Classification__</span>\n",
    "\n",
    "Tutorial for improve skills: 'A Gentle Introduction to Threshold-Moving for Imbalanced Classification' (from Machine Learning Mastery) by Marcus Mariano\n",
    "\n",
    "**For more information about Marcus Mariano: [Web site](https://marcusmariano.github.io/mmariano/)**  \n",
    "\n",
    "**A Gentle Introduction to Threshold-Moving for Imbalanced Classification: [Machine Learning Mastery](https://machinelearningmastery.com/threshold-moving-for-imbalanced-classification/)**"
   ]
  },
  {
   "cell_type": "markdown",
   "metadata": {},
   "source": [
    "## Import Packages"
   ]
  },
  {
   "cell_type": "code",
   "execution_count": 1,
   "metadata": {
    "ExecuteTime": {
     "end_time": "2021-09-24T19:54:11.252065Z",
     "start_time": "2021-09-24T19:54:05.102760Z"
    }
   },
   "outputs": [],
   "source": [
    "import pandas as pd\n",
    "import numpy as np\n",
    "\n",
    "from tqdm.notebook import tqdm\n",
    "\n",
    "from matplotlib import pyplot as plt\n",
    "import seaborn as sns\n",
    "\n",
    "sns.set(style=\"darkgrid\", color_codes=True)\n",
    "%matplotlib inline"
   ]
  },
  {
   "cell_type": "markdown",
   "metadata": {},
   "source": [
    "## Set parameters"
   ]
  },
  {
   "cell_type": "code",
   "execution_count": 65,
   "metadata": {
    "ExecuteTime": {
     "end_time": "2021-09-24T22:18:23.303498Z",
     "start_time": "2021-09-24T22:18:23.249531Z"
    }
   },
   "outputs": [],
   "source": [
    "N_THREADS = 6 # threads cnt for lgbm and linear models\n",
    "N_FOLDS = 5 # folds cnt for AutoML\n",
    "N_JOBS = -1\n",
    "SEED = 0 # fixed random state for various reasons\n",
    "TEST_SIZE = 0.3 # Test size for metric check\n",
    "VERBOSE = 1\n",
    "TIMEOUT = 600 # Time in seconds for automl run, 600 seconds = 10 minutes\n",
    "RAM = 7 #  Number of RAM limit\n",
    "CPU_LIMIT = 4 # Number of CPU limit\n",
    "TARGET_NAME = 'y'"
   ]
  },
  {
   "cell_type": "markdown",
   "metadata": {},
   "source": [
    "## Load Datasets"
   ]
  },
  {
   "cell_type": "code",
   "execution_count": 5,
   "metadata": {
    "ExecuteTime": {
     "end_time": "2021-09-24T19:57:19.392798Z",
     "start_time": "2021-09-24T19:57:19.360800Z"
    }
   },
   "outputs": [
    {
     "name": "stdout",
     "output_type": "stream",
     "text": [
      "(10000, 2) (10000,)\n"
     ]
    }
   ],
   "source": [
    "from sklearn.datasets import make_classification\n",
    "\n",
    "# generate dataset\n",
    "X, y = make_classification(n_samples=10000, \n",
    "                           n_features=2, \n",
    "                           n_redundant=0,\n",
    "                           n_clusters_per_class=1, \n",
    "                           weights=[0.99], \n",
    "                           flip_y=0, \n",
    "                           random_state=SEED)\n",
    "\n",
    "print(X.shape, y.shape)"
   ]
  },
  {
   "cell_type": "code",
   "execution_count": 19,
   "metadata": {
    "ExecuteTime": {
     "end_time": "2021-09-24T20:14:14.421296Z",
     "start_time": "2021-09-24T20:14:14.389300Z"
    }
   },
   "outputs": [
    {
     "data": {
      "text/html": [
       "<div>\n",
       "<style scoped>\n",
       "    .dataframe tbody tr th:only-of-type {\n",
       "        vertical-align: middle;\n",
       "    }\n",
       "\n",
       "    .dataframe tbody tr th {\n",
       "        vertical-align: top;\n",
       "    }\n",
       "\n",
       "    .dataframe thead th {\n",
       "        text-align: right;\n",
       "    }\n",
       "</style>\n",
       "<table border=\"1\" class=\"dataframe\">\n",
       "  <thead>\n",
       "    <tr style=\"text-align: right;\">\n",
       "      <th></th>\n",
       "      <th>col_1</th>\n",
       "      <th>col_2</th>\n",
       "      <th>y</th>\n",
       "    </tr>\n",
       "  </thead>\n",
       "  <tbody>\n",
       "    <tr>\n",
       "      <th>0</th>\n",
       "      <td>0.586681</td>\n",
       "      <td>-1.567120</td>\n",
       "      <td>0</td>\n",
       "    </tr>\n",
       "    <tr>\n",
       "      <th>1</th>\n",
       "      <td>0.915990</td>\n",
       "      <td>-1.300678</td>\n",
       "      <td>0</td>\n",
       "    </tr>\n",
       "    <tr>\n",
       "      <th>2</th>\n",
       "      <td>1.101645</td>\n",
       "      <td>-1.061435</td>\n",
       "      <td>0</td>\n",
       "    </tr>\n",
       "    <tr>\n",
       "      <th>3</th>\n",
       "      <td>0.977691</td>\n",
       "      <td>-1.149823</td>\n",
       "      <td>0</td>\n",
       "    </tr>\n",
       "    <tr>\n",
       "      <th>4</th>\n",
       "      <td>0.891530</td>\n",
       "      <td>-1.052294</td>\n",
       "      <td>0</td>\n",
       "    </tr>\n",
       "  </tbody>\n",
       "</table>\n",
       "</div>"
      ],
      "text/plain": [
       "      col_1     col_2  y\n",
       "0  0.586681 -1.567120  0\n",
       "1  0.915990 -1.300678  0\n",
       "2  1.101645 -1.061435  0\n",
       "3  0.977691 -1.149823  0\n",
       "4  0.891530 -1.052294  0"
      ]
     },
     "execution_count": 19,
     "metadata": {},
     "output_type": "execute_result"
    }
   ],
   "source": [
    "data = pd.DataFrame(X, columns=[\"col_1\", \"col_2\"])\n",
    "data['y'] = y\n",
    "data.head()"
   ]
  },
  {
   "cell_type": "markdown",
   "metadata": {},
   "source": [
    "# Exploratory Data Analysis (EDA)\n"
   ]
  },
  {
   "cell_type": "code",
   "execution_count": 23,
   "metadata": {
    "ExecuteTime": {
     "end_time": "2021-09-24T20:15:45.387814Z",
     "start_time": "2021-09-24T20:15:45.323817Z"
    }
   },
   "outputs": [
    {
     "name": "stdout",
     "output_type": "stream",
     "text": [
      "<class 'pandas.core.frame.DataFrame'>\n",
      "RangeIndex: 10000 entries, 0 to 9999\n",
      "Data columns (total 3 columns):\n",
      " #   Column  Non-Null Count  Dtype  \n",
      "---  ------  --------------  -----  \n",
      " 0   col_1   10000 non-null  float64\n",
      " 1   col_2   10000 non-null  float64\n",
      " 2   y       10000 non-null  int32  \n",
      "dtypes: float64(2), int32(1)\n",
      "memory usage: 195.4 KB\n"
     ]
    }
   ],
   "source": [
    "data.info()"
   ]
  },
  {
   "cell_type": "markdown",
   "metadata": {},
   "source": [
    "## Plot"
   ]
  },
  {
   "cell_type": "code",
   "execution_count": 26,
   "metadata": {
    "ExecuteTime": {
     "end_time": "2021-09-24T20:19:58.360037Z",
     "start_time": "2021-09-24T20:19:58.337042Z"
    }
   },
   "outputs": [
    {
     "name": "stdout",
     "output_type": "stream",
     "text": [
      "2\n"
     ]
    },
    {
     "data": {
      "text/plain": [
       "['col_1', 'col_2']"
      ]
     },
     "execution_count": 26,
     "metadata": {},
     "output_type": "execute_result"
    }
   ],
   "source": [
    "cols_num = [col for col in data.select_dtypes(include=\"number\").columns if col not in [TARGET_NAME]]\n",
    "print(len(cols_num))\n",
    "cols_num"
   ]
  },
  {
   "cell_type": "code",
   "execution_count": 15,
   "metadata": {
    "ExecuteTime": {
     "end_time": "2021-09-24T20:08:38.045379Z",
     "start_time": "2021-09-24T20:08:36.898386Z"
    }
   },
   "outputs": [
    {
     "data": {
      "image/png": "[encoded data removed]",
      "text/plain": [
       "<Figure size 1440x576 with 2 Axes>"
      ]
     },
     "metadata": {
      "needs_background": "light"
     },
     "output_type": "display_data"
    }
   ],
   "source": [
    "data[cols_num].hist(grid=False,\n",
    "                    figsize=(20, 8),\n",
    "                    bins=30);"
   ]
  },
  {
   "cell_type": "code",
   "execution_count": 16,
   "metadata": {
    "ExecuteTime": {
     "end_time": "2021-09-24T20:10:12.764516Z",
     "start_time": "2021-09-24T20:10:12.381533Z"
    }
   },
   "outputs": [
    {
     "data": {
      "image/png": "[encoded data removed]",
      "text/plain": [
       "<Figure size 1584x504 with 1 Axes>"
      ]
     },
     "metadata": {
      "needs_background": "light"
     },
     "output_type": "display_data"
    }
   ],
   "source": [
    "data[cols_num].boxplot(grid=True,\n",
    "                       figsize=(22, 7));"
   ]
  },
  {
   "cell_type": "code",
   "execution_count": 7,
   "metadata": {
    "ExecuteTime": {
     "end_time": "2021-09-24T20:01:33.839542Z",
     "start_time": "2021-09-24T20:01:33.800537Z"
    }
   },
   "outputs": [
    {
     "name": "stdout",
     "output_type": "stream",
     "text": [
      "Count 0: 9900\n",
      "Count 1: 100\n",
      "\n",
      "Percent of 1: 0.01\n"
     ]
    }
   ],
   "source": [
    "print(f\"Count 0: {list(y).count(0)}\")\n",
    "print(f\"Count 1: {list(y).count(1)}\")\n",
    "\n",
    "print(f\"\\nPercent of 1: {list(y).count(1)  / (list(y).count(0) + list(y).count(1))}\")"
   ]
  },
  {
   "cell_type": "code",
   "execution_count": 20,
   "metadata": {
    "ExecuteTime": {
     "end_time": "2021-09-24T20:14:26.185686Z",
     "start_time": "2021-09-24T20:14:25.817690Z"
    }
   },
   "outputs": [
    {
     "data": {
      "image/png": "[encoded data removed]",
      "text/plain": [
       "<Figure size 720x432 with 1 Axes>"
      ]
     },
     "metadata": {
      "needs_background": "light"
     },
     "output_type": "display_data"
    }
   ],
   "source": [
    "fig = plt.subplots(figsize=(10, 6))\n",
    "sns.countplot(x=TARGET_NAME, data=data);"
   ]
  },
  {
   "cell_type": "markdown",
   "metadata": {},
   "source": [
    "## Division of training and validation databases"
   ]
  },
  {
   "cell_type": "code",
   "execution_count": 28,
   "metadata": {
    "ExecuteTime": {
     "end_time": "2021-09-24T20:29:58.892333Z",
     "start_time": "2021-09-24T20:29:58.866334Z"
    }
   },
   "outputs": [
    {
     "name": "stdout",
     "output_type": "stream",
     "text": [
      "Train 70%, Valid 30% data: ((7000, 2), (3000, 2)) (7000,) (3000,)\n"
     ]
    }
   ],
   "source": [
    "from sklearn.model_selection import train_test_split\n",
    "\n",
    "\n",
    "X_train, X_valid, y_train, y_valid = train_test_split(X,\n",
    "                                                      y, \n",
    "                                                      test_size=TEST_SIZE, \n",
    "                                                      random_state=SEED) \n",
    "\n",
    "\n",
    "print(f\"Train 70%, Valid 30% data: {X_train.shape, X_valid.shape}\",\\\n",
    "                                    y_train.shape, y_valid.shape)"
   ]
  },
  {
   "cell_type": "markdown",
   "metadata": {},
   "source": [
    "# LogisticRegression"
   ]
  },
  {
   "cell_type": "code",
   "execution_count": 33,
   "metadata": {
    "ExecuteTime": {
     "end_time": "2021-09-24T20:31:28.844464Z",
     "start_time": "2021-09-24T20:31:28.793465Z"
    }
   },
   "outputs": [
    {
     "data": {
      "text/plain": [
       "array([0.00114409, 0.00129662, 0.00054137, ..., 0.00167629, 0.01038529,\n",
       "       0.00013888])"
      ]
     },
     "execution_count": 33,
     "metadata": {},
     "output_type": "execute_result"
    }
   ],
   "source": [
    "from sklearn.linear_model import LogisticRegression\n",
    "# fit a model\n",
    "lr = LogisticRegression(solver='lbfgs')\n",
    "\n",
    "lr.fit(X_train, y_train)\n",
    "# predict probabilities\n",
    "probs_lr = lr.predict_proba(X_valid)\n",
    "# keep probabilities for the positive outcome only\n",
    "probs_lr[:, 1]\n"
   ]
  },
  {
   "cell_type": "code",
   "execution_count": 35,
   "metadata": {
    "ExecuteTime": {
     "end_time": "2021-09-24T20:33:26.334572Z",
     "start_time": "2021-09-24T20:33:26.306576Z"
    }
   },
   "outputs": [
    {
     "data": {
      "text/plain": [
       "0.9443326626425218"
      ]
     },
     "execution_count": 35,
     "metadata": {},
     "output_type": "execute_result"
    }
   ],
   "source": [
    "from sklearn.metrics import roc_auc_score\n",
    "\n",
    "lr_auc = roc_auc_score(y_valid, probs_lr[:, 1])\n",
    "lr_auc"
   ]
  },
  {
   "cell_type": "markdown",
   "metadata": {},
   "source": [
    "## roc curve for logistic regression model\n",
    "\n",
    "fprndarray of shape (>2,)\n",
    "\n",
    "    Increasing false positive rates such that element i is the false positive rate of predictions with score >= thresholds[i].\n",
    "\n",
    "tprndarray of shape (>2,)\n",
    "\n",
    "    Increasing true positive rates such that element i is the true positive rate of predictions with score >= thresholds[i].\n",
    "\n",
    "thresholdsndarray of shape = (n_thresholds,)\n",
    "\n",
    "    Decreasing thresholds on the decision function used to compute fpr and tpr. thresholds[0] represents no instances being predicted and is arbitrarily set to max(y_score) + 1"
   ]
  },
  {
   "cell_type": "code",
   "execution_count": 46,
   "metadata": {
    "ExecuteTime": {
     "end_time": "2021-09-24T20:44:22.509586Z",
     "start_time": "2021-09-24T20:44:22.171553Z"
    }
   },
   "outputs": [
    {
     "data": {
      "image/png": "[encoded data removed]",
      "text/plain": [
       "<Figure size 576x432 with 1 Axes>"
      ]
     },
     "metadata": {
      "needs_background": "light"
     },
     "output_type": "display_data"
    }
   ],
   "source": [
    "from sklearn.metrics import roc_curve\n",
    "\n",
    "fpr, tpr, thresholds = roc_curve(y_valid, probs_lr[:, 1])\n",
    "\n",
    "# plot the roc curve for the model\n",
    "plt.figure(figsize=(8, 6))\n",
    "plt.plot([0,1], [0,1], linestyle='--', label='Random')\n",
    "plt.plot(fpr, tpr, marker='.', label='Logistic')\n",
    "# axis labels\n",
    "plt.xlabel('False Positive Rate')\n",
    "plt.ylabel('True Positive Rate')\n",
    "plt.legend()\n",
    "# show the plot\n",
    "plt;"
   ]
  },
  {
   "cell_type": "markdown",
   "metadata": {},
   "source": [
    "## roc curve for logistic regression model with optimal threshold"
   ]
  },
  {
   "cell_type": "code",
   "execution_count": 45,
   "metadata": {
    "ExecuteTime": {
     "end_time": "2021-09-24T20:44:15.316983Z",
     "start_time": "2021-09-24T20:44:14.930983Z"
    }
   },
   "outputs": [
    {
     "name": "stdout",
     "output_type": "stream",
     "text": [
      "Best Threshold: 0.021933663884178202, G-Mean: 0.889\n"
     ]
    },
    {
     "data": {
      "image/png": "[encoded data removed]",
      "text/plain": [
       "<Figure size 576x432 with 1 Axes>"
      ]
     },
     "metadata": {
      "needs_background": "light"
     },
     "output_type": "display_data"
    }
   ],
   "source": [
    "from sklearn.metrics import roc_curve\n",
    "\n",
    "# calculate the g-mean for each threshold\n",
    "gmeans = np.sqrt(tpr * (1-fpr))\n",
    "# locate the index of the largest g-mean\n",
    "ix = np.argmax(gmeans)\n",
    "\n",
    "print(f'Best Threshold: {thresholds[ix]}, G-Mean: {gmeans[ix]:.3f}')\n",
    "\n",
    "# plot the roc curve for the model\n",
    "plt.figure(figsize=(8, 6))\n",
    "plt.plot([0,1], [0,1], linestyle='--', label='No Skill')\n",
    "plt.plot(fpr, tpr, marker='.', label='Logistic')\n",
    "plt.scatter(fpr[ix], tpr[ix], marker='o', color='black', label='Best')\n",
    "# axis labels\n",
    "plt.xlabel('False Positive Rate')\n",
    "plt.ylabel('True Positive Rate')\n",
    "plt.legend()\n",
    "# show the plot\n",
    "plt;"
   ]
  },
  {
   "cell_type": "markdown",
   "metadata": {},
   "source": [
    "## Youden’s J statistic\n",
    "\n",
    "It turns out there is a much faster way to get the same result, called the __Youden’s J statistic__.\n",
    "\n",
    "The statistic is calculated as:\n",
    "\n",
    "    J = Sensitivity + Specificity – 1\n",
    "\n",
    "Given that we have Sensitivity (TPR) and the complement of the specificity (FPR), we can calculate it as:\n",
    "\n",
    "    J = Sensitivity + (1 – FalsePositiveRate) – 1\n",
    "\n",
    "Which we can restate as:\n",
    "\n",
    "    J = TruePositiveRate – FalsePositiveRate\n"
   ]
  },
  {
   "cell_type": "code",
   "execution_count": 48,
   "metadata": {
    "ExecuteTime": {
     "end_time": "2021-09-24T20:57:15.771869Z",
     "start_time": "2021-09-24T20:57:15.756859Z"
    }
   },
   "outputs": [
    {
     "name": "stdout",
     "output_type": "stream",
     "text": [
      "Best Threshold: 0.021933663884178202\n"
     ]
    }
   ],
   "source": [
    "from sklearn.metrics import roc_curve\n",
    "\n",
    "# calculate roc curves\n",
    "fpr, tpr, thresholds = roc_curve(y_valid, probs_lr[:, 1])\n",
    "# get the best threshold\n",
    "J = tpr - fpr\n",
    "ix = np.argmax(J)\n",
    "best_thresh = thresholds[ix]\n",
    "\n",
    "print(f'Best Threshold: {best_thresh}')"
   ]
  },
  {
   "cell_type": "markdown",
   "metadata": {},
   "source": [
    "# Optimal Threshold for Precision-Recall Curve"
   ]
  },
  {
   "cell_type": "code",
   "execution_count": 51,
   "metadata": {
    "ExecuteTime": {
     "end_time": "2021-09-24T21:08:48.507663Z",
     "start_time": "2021-09-24T21:08:47.918666Z"
    }
   },
   "outputs": [
    {
     "data": {
      "image/png": "[encoded data removed]",
      "text/plain": [
       "<Figure size 576x432 with 1 Axes>"
      ]
     },
     "metadata": {
      "needs_background": "light"
     },
     "output_type": "display_data"
    }
   ],
   "source": [
    "from sklearn.metrics import precision_recall_curve\n",
    "\n",
    "# calculate pr-curve\n",
    "precision, recall, thresholds = precision_recall_curve(y_valid, probs_lr[:, 1])\n",
    "\n",
    "no_skill = len(y_valid[y_valid==1]) / len(y_valid)\n",
    "\n",
    "# plot the roc curve for the model\n",
    "plt.figure(figsize=(8, 6))\n",
    "plt.plot([0,1], [no_skill, no_skill], linestyle='--', label='Random')\n",
    "plt.plot(recall, precision, marker='.', label='Logistic')\n",
    "# axis labels\n",
    "plt.xlabel('Recall')\n",
    "plt.ylabel('Precision')\n",
    "plt.legend()\n",
    "# show the plot\n",
    "plt;"
   ]
  },
  {
   "cell_type": "markdown",
   "metadata": {},
   "source": [
    "## Best balance of precision and recall\n",
    "\n",
    "If we are interested in a threshold that results in the best balance of precision and recall, then this is the same as optimizing the F1 Score that summarizes the harmonic mean of both measures.\n",
    "\n",
    "    F1 Score = (2 * Precision * Recall) / (Precision + Recall)\n",
    "\n",
    "As in the previous section, the naive approach to finding the optimal threshold would be to calculate the F1 Score for each threshold. We can achieve the same effect by converting the precision and recall measures to F1 Score directly; for example:"
   ]
  },
  {
   "cell_type": "code",
   "execution_count": 53,
   "metadata": {
    "ExecuteTime": {
     "end_time": "2021-09-24T21:34:01.044871Z",
     "start_time": "2021-09-24T21:34:00.679875Z"
    }
   },
   "outputs": [
    {
     "name": "stdout",
     "output_type": "stream",
     "text": [
      "Best Threshold: 0.33590687525158636, F1-Score: 0.733\n"
     ]
    },
    {
     "data": {
      "image/png": "[encoded data removed]",
      "text/plain": [
       "<Figure size 576x432 with 1 Axes>"
      ]
     },
     "metadata": {
      "needs_background": "light"
     },
     "output_type": "display_data"
    }
   ],
   "source": [
    "# convert to f score\n",
    "f1 = (2*recall*precision) / (recall+precision)\n",
    "# locate the index of the largest f score\n",
    "ix = np.argmax(f1)\n",
    "\n",
    "print(f'Best Threshold: {thresholds[ix]}, F1-Score: {f1[ix]:.3f}')\n",
    "\n",
    "no_skill = len(y_valid[y_valid==1]) / len(y_valid)\n",
    "\n",
    "# plot the roc curve for the model\n",
    "plt.figure(figsize=(8, 6))\n",
    "plt.plot([0,1], [no_skill, no_skill], linestyle='--', label='Random')\n",
    "plt.plot(recall, precision, marker='.', label='Logistic')\n",
    "plt.scatter(recall[ix], precision[ix], marker='o', color='black', label='Best')\n",
    "# axis labels\n",
    "plt.xlabel('Recall')\n",
    "plt.ylabel('Precision')\n",
    "plt.legend()\n",
    "# show the plot\n",
    "plt;"
   ]
  },
  {
   "cell_type": "markdown",
   "metadata": {},
   "source": [
    "# Optimal Threshold Tuning for F1-Score"
   ]
  },
  {
   "cell_type": "code",
   "execution_count": 68,
   "metadata": {
    "ExecuteTime": {
     "end_time": "2021-09-25T00:11:10.678557Z",
     "start_time": "2021-09-25T00:11:10.581581Z"
    }
   },
   "outputs": [
    {
     "name": "stdout",
     "output_type": "stream",
     "text": [
      "F1-Score: 0.61538\n"
     ]
    }
   ],
   "source": [
    "from sklearn.metrics import f1_score\n",
    "\n",
    "lr = LogisticRegression(solver='lbfgs')\n",
    "lr.fit(X_train, y_train)\n",
    "# predict labels\n",
    "preds_lr = lr.predict(X_valid)\n",
    "\n",
    "# evaluate the model\n",
    "f1 = f1_score(y_valid, preds_lr)\n",
    "print(f'F1-Score: {f1:.5f}')"
   ]
  },
  {
   "cell_type": "markdown",
   "metadata": {},
   "source": [
    "##  Tuning the threshold for the logistic regression model on the synthetic imbalanced classification dataset"
   ]
  },
  {
   "cell_type": "code",
   "execution_count": 67,
   "metadata": {
    "ExecuteTime": {
     "end_time": "2021-09-25T00:11:09.443477Z",
     "start_time": "2021-09-25T00:11:05.721413Z"
    }
   },
   "outputs": [
    {
     "name": "stdout",
     "output_type": "stream",
     "text": [
      "Len of Range Thresholds: 1000\n",
      "Best Threshold: 0.33000, F1-Score: 0.73333\n"
     ]
    }
   ],
   "source": [
    "from sklearn.metrics import precision_recall_curve\n",
    "from sklearn.linear_model import LogisticRegression\n",
    "\n",
    "# apply threshold to positive probabilities to create labels\n",
    "def to_labels(pos_probs, threshold):\n",
    "        return (pos_probs >= threshold).astype('int')\n",
    "\n",
    "# fit a model\n",
    "lr = LogisticRegression(solver='lbfgs')\n",
    "\n",
    "lr.fit(X_train, y_train)\n",
    "# predict probabilities\n",
    "probs_lr = lr.predict_proba(X_valid)\n",
    "# keep probabilities for the positive outcome only\n",
    "\n",
    "# calculate pr-curve\n",
    "precision, recall, thresholds = precision_recall_curve(y_valid, probs_lr[:, 1])\n",
    "\n",
    "no_skill = len(y_valid[y_valid==1]) / len(y_valid)\n",
    "\n",
    "\n",
    "# define thresholds\n",
    "thres_range = np.arange(0, 1, 0.001)\n",
    "print(f\"Len of Range Thresholds: {len(thres_range)}\")\n",
    "\n",
    "# evaluate each threshold\n",
    "f1_sc = [f1_score(y_valid, to_labels(probs_lr[:, 1], t)) for t in thres_range]\n",
    "\n",
    "# get best threshold\n",
    "ix = np.argmax(f1_sc)\n",
    "\n",
    "print(f'Best Threshold: {thres_range[ix]:.5f}, F1-Score: {f1_sc[ix]:.5f}')"
   ]
  },
  {
   "cell_type": "code",
   "execution_count": 69,
   "metadata": {
    "ExecuteTime": {
     "end_time": "2021-09-25T00:11:22.551675Z",
     "start_time": "2021-09-25T00:11:22.007505Z"
    }
   },
   "outputs": [
    {
     "data": {
      "image/png": "[encoded data removed]",
      "text/plain": [
       "<Figure size 576x432 with 1 Axes>"
      ]
     },
     "metadata": {
      "needs_background": "light"
     },
     "output_type": "display_data"
    }
   ],
   "source": [
    "# plot the roc curve for the model\n",
    "plt.figure(figsize=(8, 6))\n",
    "# plt.plot([0,1], [no_skill, no_skill], linestyle='--', label='Random')\n",
    "# plt.plot(recall, precision, marker='.', label='Logistic')\n",
    "plt.plot(thres_range, scores, marker='.', color='green', label='Thresholds')\n",
    "plt.scatter(thres_range[ix], scores[ix], marker='o', color='red', label='Best Threshold')\n",
    "# axis labels\n",
    "plt.ylabel('F1 Scores')\n",
    "plt.xlabel('Threshold')\n",
    "plt.legend()\n",
    "# show the plot\n",
    "plt;"
   ]
  },
  {
   "cell_type": "markdown",
   "metadata": {},
   "source": [
    "##  Comparison between old and new F1-Scores Values."
   ]
  },
  {
   "cell_type": "markdown",
   "metadata": {},
   "source": [
    "    modl.predict_proba(X_test)[:,0] is the probability of the label being 0 \n",
    "    modl.predict_proba(X_test)[:,1] is the probability of the label being 1."
   ]
  },
  {
   "cell_type": "code",
   "execution_count": 73,
   "metadata": {
    "ExecuteTime": {
     "end_time": "2021-09-25T00:20:53.282177Z",
     "start_time": "2021-09-25T00:20:53.245177Z"
    }
   },
   "outputs": [
    {
     "name": "stdout",
     "output_type": "stream",
     "text": [
      "0.33\n"
     ]
    },
    {
     "data": {
      "text/plain": [
       "[0, 0, 0, 0, 0, 0, 0, 0, 0, 0, 0, 0, 0, 0, 0, 0, 0, 0, 0, 0]"
      ]
     },
     "execution_count": 73,
     "metadata": {},
     "output_type": "execute_result"
    }
   ],
   "source": [
    "# Threshold Good\n",
    "threshold = thres_range[ix]\n",
    "print(threshold)\n",
    "preds_lr_ = [1 if x >= threshold else 0 for x in probs_lr[:, 1]]\n",
    "preds_lr_[:20]"
   ]
  },
  {
   "cell_type": "code",
   "execution_count": 72,
   "metadata": {
    "ExecuteTime": {
     "end_time": "2021-09-25T00:12:29.898960Z",
     "start_time": "2021-09-25T00:12:29.795968Z"
    }
   },
   "outputs": [
    {
     "name": "stdout",
     "output_type": "stream",
     "text": [
      "Old F1 Scores value: 0.6153846153846153\n",
      "New F1 Scores value: 0.7333333333333334\n"
     ]
    }
   ],
   "source": [
    "lr = LogisticRegression(solver='lbfgs')\n",
    "lr.fit(X_train, y_train)\n",
    "# predict labels\n",
    "preds_lr = lr.predict(X_valid)\n",
    "\n",
    "# Comparison\n",
    "  \n",
    "# Old Precision Value\n",
    "print(\"Old F1 Scores value:\", f1_score(y_valid, preds_lr))\n",
    "# New precision Value  \n",
    "print(\"New F1 Scores value:\", f1_score(y_valid, preds_lr_))"
   ]
  }
 ],
 "metadata": {
  "kernelspec": {
   "display_name": "Python 3 (ipykernel)",
   "language": "python",
   "name": "python3"
  },
  "language_info": {
   "codemirror_mode": {
    "name": "ipython",
    "version": 3
   },
   "file_extension": ".py",
   "mimetype": "text/x-python",
   "name": "python",
   "nbconvert_exporter": "python",
   "pygments_lexer": "ipython3",
   "version": "3.9.7"
  },
  "toc": {
   "base_numbering": 1,
   "nav_menu": {},
   "number_sections": true,
   "sideBar": true,
   "skip_h1_title": false,
   "title_cell": "Table of Contents",
   "title_sidebar": "Contents",
   "toc_cell": false,
   "toc_position": {
    "height": "calc(100% - 180px)",
    "left": "10px",
    "top": "150px",
    "width": "204.8px"
   },
   "toc_section_display": true,
   "toc_window_display": false
  }
 },
 "nbformat": 4,
 "nbformat_minor": 4
}
